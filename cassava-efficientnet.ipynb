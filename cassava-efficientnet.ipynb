{
 "cells": [
  {
   "cell_type": "code",
   "execution_count": 1,
   "metadata": {
    "_cell_guid": "79c7e3d0-c299-4dcb-8224-4455121ee9b0",
    "_uuid": "d629ff2d2480ee46fbb7e2d37f6b5fab8052498a",
    "execution": {
     "iopub.execute_input": "2021-01-16T17:13:25.027249Z",
     "iopub.status.busy": "2021-01-16T17:13:25.026719Z",
     "iopub.status.idle": "2021-01-16T17:13:29.974700Z",
     "shell.execute_reply": "2021-01-16T17:13:29.973632Z"
    },
    "papermill": {
     "duration": 4.964974,
     "end_time": "2021-01-16T17:13:29.974827",
     "exception": false,
     "start_time": "2021-01-16T17:13:25.009853",
     "status": "completed"
    },
    "tags": []
   },
   "outputs": [],
   "source": [
    "import os\n",
    "import numpy as np\n",
    "import pandas as pd\n",
    "import joblib\n",
    "\n",
    "import tensorflow as tf\n",
    "from tensorflow import keras\n",
    "from tensorflow.keras import layers\n",
    "from tensorflow.keras import callbacks\n",
    "from tensorflow.keras.applications import EfficientNetB3\n",
    "from randomcutout_tf2_3 import RandomCutout\n",
    "\n",
    "from sklearn.model_selection import train_test_split\n",
    "from sklearn.model_selection import StratifiedKFold"
   ]
  },
  {
   "cell_type": "markdown",
   "metadata": {
    "papermill": {
     "duration": 0.008472,
     "end_time": "2021-01-16T17:13:29.992596",
     "exception": false,
     "start_time": "2021-01-16T17:13:29.984124",
     "status": "completed"
    },
    "tags": []
   },
   "source": [
    "LOG MESSAGE\n",
    "1. Version 8:\n",
    "    * Train effnetB3\n",
    "    * 12 epoch\n",
    "    * image size 224\n",
    "    * preprocessing layer (0.2)\n",
    "    * random cutout (32)\n",
    "1. Version 10:\n",
    "    * Retrain effnetB3\n",
    "    * 7 epoch\n",
    "    * image size 512\n",
    "    * preprocessing layer (0.4)\n",
    "    * random cutout (96)"
   ]
  },
  {
   "cell_type": "code",
   "execution_count": 2,
   "metadata": {
    "execution": {
     "iopub.execute_input": "2021-01-16T17:13:30.014304Z",
     "iopub.status.busy": "2021-01-16T17:13:30.013797Z",
     "iopub.status.idle": "2021-01-16T17:13:32.606388Z",
     "shell.execute_reply": "2021-01-16T17:13:32.605866Z"
    },
    "papermill": {
     "duration": 2.605181,
     "end_time": "2021-01-16T17:13:32.606523",
     "exception": false,
     "start_time": "2021-01-16T17:13:30.001342",
     "status": "completed"
    },
    "tags": []
   },
   "outputs": [],
   "source": [
    "from tensorflow.keras.mixed_precision import experimental as mixed_precision\n",
    "policy = tf.keras.mixed_precision.experimental.Policy('mixed_float16')\n",
    "mixed_precision.set_policy(policy)"
   ]
  },
  {
   "cell_type": "code",
   "execution_count": 3,
   "metadata": {
    "execution": {
     "iopub.execute_input": "2021-01-16T17:13:32.631173Z",
     "iopub.status.busy": "2021-01-16T17:13:32.629362Z",
     "iopub.status.idle": "2021-01-16T17:13:32.631812Z",
     "shell.execute_reply": "2021-01-16T17:13:32.632211Z"
    },
    "papermill": {
     "duration": 0.016583,
     "end_time": "2021-01-16T17:13:32.632305",
     "exception": false,
     "start_time": "2021-01-16T17:13:32.615722",
     "status": "completed"
    },
    "tags": []
   },
   "outputs": [],
   "source": [
    "def set_seed(SEED):\n",
    "    os.environ['PYTHONHASHSEED'] = str(SEED)\n",
    "    np.random.seed(SEED)\n",
    "    tf.random.set_seed(SEED)"
   ]
  },
  {
   "cell_type": "code",
   "execution_count": 4,
   "metadata": {
    "execution": {
     "iopub.execute_input": "2021-01-16T17:13:32.659599Z",
     "iopub.status.busy": "2021-01-16T17:13:32.658419Z",
     "iopub.status.idle": "2021-01-16T17:13:32.661251Z",
     "shell.execute_reply": "2021-01-16T17:13:32.660851Z"
    },
    "papermill": {
     "duration": 0.019863,
     "end_time": "2021-01-16T17:13:32.661332",
     "exception": false,
     "start_time": "2021-01-16T17:13:32.641469",
     "status": "completed"
    },
    "tags": []
   },
   "outputs": [],
   "source": [
    "CSV_DIR = '../input/cassava-leaf-disease-classification/train.csv'\n",
    "IMG_DIR = '../input/cassava-leaf-disease-classification/train_images'\n",
    "CACHE_DIR = '/kaggle/dump.tfcache'\n",
    "SAVE_DIR = './'\n",
    "\n",
    "RETRAIN = True\n",
    "WEIGHT_DIR = '../input/cassava-efficientnetb3/ModelB3v1_'\n",
    "\n",
    "DEBUG = False\n",
    "DEBUG_FUNC = False\n",
    "if DEBUG:\n",
    "    EPOCHS = 1\n",
    "else:\n",
    "    EPOCHS = 7\n",
    "\n",
    "SEED = 2021\n",
    "CLASS = 5\n",
    "BATCH_SIZE = 8\n",
    "IMG_SIZE = 512\n",
    "DROPOUT_RATE = 0.4\n",
    "BUFFER_SIZE = 1024\n",
    "\n",
    "INPUT_SHAPE = (IMG_SIZE, IMG_SIZE, 3)\n",
    "TARGET_SIZE = (IMG_SIZE, IMG_SIZE)\n",
    "\n",
    "AUTOTUNE = tf.data.experimental.AUTOTUNE\n",
    "set_seed(SEED)"
   ]
  },
  {
   "cell_type": "markdown",
   "metadata": {
    "papermill": {
     "duration": 0.008806,
     "end_time": "2021-01-16T17:13:32.679062",
     "exception": false,
     "start_time": "2021-01-16T17:13:32.670256",
     "status": "completed"
    },
    "tags": []
   },
   "source": [
    "## Dataset"
   ]
  },
  {
   "cell_type": "code",
   "execution_count": 5,
   "metadata": {
    "execution": {
     "iopub.execute_input": "2021-01-16T17:13:32.703658Z",
     "iopub.status.busy": "2021-01-16T17:13:32.703110Z",
     "iopub.status.idle": "2021-01-16T17:13:32.761663Z",
     "shell.execute_reply": "2021-01-16T17:13:32.761138Z"
    },
    "papermill": {
     "duration": 0.073788,
     "end_time": "2021-01-16T17:13:32.761793",
     "exception": false,
     "start_time": "2021-01-16T17:13:32.688005",
     "status": "completed"
    },
    "tags": []
   },
   "outputs": [
    {
     "data": {
      "text/plain": [
       "label\n",
       "0     1087\n",
       "1     2189\n",
       "2     2386\n",
       "3    13158\n",
       "4     2577\n",
       "Name: path, dtype: int64"
      ]
     },
     "execution_count": 5,
     "metadata": {},
     "output_type": "execute_result"
    }
   ],
   "source": [
    "df = pd.read_csv(CSV_DIR)\n",
    "df['path'] = IMG_DIR + '/' + df.image_id\n",
    "# df['label'] = df['label'].astype(str)\n",
    "if DEBUG:\n",
    "    df = df.groupby('label', group_keys=False).apply(lambda x: x.sample(frac=0.005))\n",
    "    if DEBUG_FUNC:\n",
    "        X_train, X_valid = train_test_split(df, test_size=0.1, random_state=SEED, stratify=df['label'])\n",
    "        \n",
    "df.groupby('label')['path'].count()"
   ]
  },
  {
   "cell_type": "code",
   "execution_count": 6,
   "metadata": {
    "execution": {
     "iopub.execute_input": "2021-01-16T17:13:32.792180Z",
     "iopub.status.busy": "2021-01-16T17:13:32.791547Z",
     "iopub.status.idle": "2021-01-16T17:13:32.794861Z",
     "shell.execute_reply": "2021-01-16T17:13:32.794434Z"
    },
    "papermill": {
     "duration": 0.023249,
     "end_time": "2021-01-16T17:13:32.794948",
     "exception": false,
     "start_time": "2021-01-16T17:13:32.771699",
     "status": "completed"
    },
    "tags": []
   },
   "outputs": [],
   "source": [
    "def create_dataset(X_train, X_valid):\n",
    "    train_dataset = tf.data.Dataset.from_tensor_slices((X_train.path.values,\n",
    "                                                        X_train.label.values))\n",
    "    valid_dataset = tf.data.Dataset.from_tensor_slices((X_valid.path.values,\n",
    "                                                        X_valid.label.values))\n",
    "    return train_dataset, valid_dataset\n",
    "\n",
    "def load_image(image_path, label):\n",
    "    img = tf.io.read_file(image_path)\n",
    "    img = tf.image.decode_jpeg(img, channels=3)\n",
    "    img = tf.image.random_crop(img, size=[IMG_SIZE, IMG_SIZE, 3])\n",
    "\n",
    "\n",
    "    # # If we use CategoricalCrossentropy\n",
    "    # label = tf.one_hot(label, CLASS, dtype='uint8')\n",
    "    return img, label\n",
    "\n",
    "def improve_performance(ds, batch_size=BATCH_SIZE):\n",
    "    # comment if we use CategoricalCrossentropy (improvement gone)\n",
    "    ds = ds.cache(CACHE_DIR)\n",
    "    ds = ds.shuffle(buffer_size=BUFFER_SIZE)\n",
    "    ds = ds.repeat()\n",
    "    ds = ds.batch(batch_size)\n",
    "    ds = ds.prefetch(buffer_size=AUTOTUNE)\n",
    "    return ds\n",
    "\n",
    "\n",
    "def create_dataset_batch(X_train, X_valid):\n",
    "    train_ds, valid_ds = create_dataset(X_train, X_valid)\n",
    "    \n",
    "    train_ds = train_ds.map(load_image, num_parallel_calls=AUTOTUNE)\n",
    "    valid_ds = valid_ds.map(load_image, num_parallel_calls=AUTOTUNE)\n",
    "\n",
    "    train_ds_batch = improve_performance(train_ds, BATCH_SIZE)\n",
    "    valid_ds_batch = valid_ds.repeat().batch(BATCH_SIZE)\n",
    "    return train_ds_batch, valid_ds_batch"
   ]
  },
  {
   "cell_type": "code",
   "execution_count": 7,
   "metadata": {
    "execution": {
     "iopub.execute_input": "2021-01-16T17:13:32.818762Z",
     "iopub.status.busy": "2021-01-16T17:13:32.817960Z",
     "iopub.status.idle": "2021-01-16T17:13:32.820733Z",
     "shell.execute_reply": "2021-01-16T17:13:32.820303Z"
    },
    "papermill": {
     "duration": 0.016371,
     "end_time": "2021-01-16T17:13:32.820818",
     "exception": false,
     "start_time": "2021-01-16T17:13:32.804447",
     "status": "completed"
    },
    "tags": []
   },
   "outputs": [],
   "source": [
    "if DEBUG_FUNC:\n",
    "    train_ds_batch, valid_ds_batch = create_dataset_batch(X_train, X_valid)\n",
    "    image_batch, label_batch = next(iter(train_ds_batch))"
   ]
  },
  {
   "cell_type": "markdown",
   "metadata": {
    "papermill": {
     "duration": 0.009556,
     "end_time": "2021-01-16T17:13:32.839920",
     "exception": false,
     "start_time": "2021-01-16T17:13:32.830364",
     "status": "completed"
    },
    "tags": []
   },
   "source": [
    "## Model"
   ]
  },
  {
   "cell_type": "code",
   "execution_count": 8,
   "metadata": {
    "execution": {
     "iopub.execute_input": "2021-01-16T17:13:32.864694Z",
     "iopub.status.busy": "2021-01-16T17:13:32.864151Z",
     "iopub.status.idle": "2021-01-16T17:13:32.887252Z",
     "shell.execute_reply": "2021-01-16T17:13:32.886844Z"
    },
    "papermill": {
     "duration": 0.03779,
     "end_time": "2021-01-16T17:13:32.887334",
     "exception": false,
     "start_time": "2021-01-16T17:13:32.849544",
     "status": "completed"
    },
    "tags": []
   },
   "outputs": [],
   "source": [
    "# Data Augmentation in GPU\n",
    "data_augmentation = keras.Sequential([\n",
    "#     layers.experimental.preprocessing.RandomCrop(height=IMG_SIZE, width=IMG_SIZE),\n",
    "    layers.experimental.preprocessing.RandomFlip(mode='horizontal_and_vertical'),\n",
    "    layers.experimental.preprocessing.RandomZoom(height_factor=(-0.4, 0)),\n",
    "    layers.experimental.preprocessing.RandomRotation(factor=0.4),\n",
    "    layers.experimental.preprocessing.RandomContrast(factor=0.4),\n",
    "    # Custom augmentation\n",
    "    RandomCutout(mask=(96, 96))\n",
    "])"
   ]
  },
  {
   "cell_type": "code",
   "execution_count": 9,
   "metadata": {
    "execution": {
     "iopub.execute_input": "2021-01-16T17:13:32.918648Z",
     "iopub.status.busy": "2021-01-16T17:13:32.917659Z",
     "iopub.status.idle": "2021-01-16T17:13:41.538904Z",
     "shell.execute_reply": "2021-01-16T17:13:41.537836Z"
    },
    "papermill": {
     "duration": 8.642048,
     "end_time": "2021-01-16T17:13:41.539025",
     "exception": false,
     "start_time": "2021-01-16T17:13:32.896977",
     "status": "completed"
    },
    "tags": []
   },
   "outputs": [
    {
     "name": "stdout",
     "output_type": "stream",
     "text": [
      "Downloading data from https://storage.googleapis.com/keras-applications/efficientnetb3_notop.h5\n",
      "43941888/43941136 [==============================] - 0s 0us/step\n",
      "Model: \"functional_1\"\n",
      "_________________________________________________________________\n",
      "Layer (type)                 Output Shape              Param #   \n",
      "=================================================================\n",
      "input (InputLayer)           [(None, 512, 512, 3)]     0         \n",
      "_________________________________________________________________\n",
      "sequential (Sequential)      (None, 512, 512, 3)       0         \n",
      "_________________________________________________________________\n",
      "efficientnetb3 (Functional)  (None, 16, 16, 1536)      10783535  \n",
      "_________________________________________________________________\n",
      "last_global_avg_pooling (Glo (None, 1536)              0         \n",
      "_________________________________________________________________\n",
      "last_dropout (Dropout)       (None, 1536)              0         \n",
      "_________________________________________________________________\n",
      "predictions (Dense)          (None, 5)                 7685      \n",
      "=================================================================\n",
      "Total params: 10,791,220\n",
      "Trainable params: 10,703,917\n",
      "Non-trainable params: 87,303\n",
      "_________________________________________________________________\n"
     ]
    }
   ],
   "source": [
    "def create_model():\n",
    "    tf.keras.backend.clear_session()\n",
    "    # Base model is efficientnet\n",
    "    efficientnet = EfficientNetB3(weights='imagenet',\n",
    "                                  include_top=False, \n",
    "                                  input_shape=INPUT_SHAPE, \n",
    "                                  drop_connect_rate=DROPOUT_RATE)\n",
    "    # Mean and variance of dataset (obtain using adapt function)\n",
    "    efficientnet.get_layer('normalization').mean.assign([0.42580798, 0.4968467 , 0.3084383])\n",
    "    efficientnet.get_layer('normalization').variance.assign([0.05642978, 0.05777279, 0.05193274])\n",
    "\n",
    "    inputs = layers.Input(shape=INPUT_SHAPE, name='input')\n",
    "    augmentations = data_augmentation(inputs)\n",
    "    base_model = efficientnet(augmentations)\n",
    "    global_avg_pooling = layers.GlobalAveragePooling2D(name='last_global_avg_pooling')(base_model)\n",
    "    dropout = layers.Dropout(DROPOUT_RATE, name='last_dropout')(global_avg_pooling)\n",
    "    outputs = layers.Dense(CLASS, activation='softmax', name='predictions', dtype='float32')(dropout)\n",
    "    \n",
    "    model = keras.Model(inputs=inputs, outputs=outputs)\n",
    "    \n",
    "    \n",
    "    decay_steps = int(round(len(df)/BATCH_SIZE))*EPOCHS\n",
    "    cosine_decay = tf.keras.experimental.CosineDecay(initial_learning_rate=1e-5,\n",
    "                                                     decay_steps=decay_steps,\n",
    "                                                     alpha=0.3)\n",
    "    optimizer = tf.keras.optimizers.Adam(learning_rate=cosine_decay)\n",
    "\n",
    "    loss = tf.keras.losses.SparseCategoricalCrossentropy()\n",
    "    model.compile(loss=loss, optimizer=optimizer, metrics=['sparse_categorical_accuracy'])\n",
    "    return model\n",
    "\n",
    "# Create and compile model\n",
    "model = create_model()\n",
    "model.summary()"
   ]
  },
  {
   "cell_type": "markdown",
   "metadata": {
    "papermill": {
     "duration": 0.033322,
     "end_time": "2021-01-16T17:13:41.594240",
     "exception": false,
     "start_time": "2021-01-16T17:13:41.560918",
     "status": "completed"
    },
    "tags": []
   },
   "source": [
    "## Training"
   ]
  },
  {
   "cell_type": "code",
   "execution_count": 10,
   "metadata": {
    "execution": {
     "iopub.execute_input": "2021-01-16T17:13:41.650529Z",
     "iopub.status.busy": "2021-01-16T17:13:41.649740Z",
     "iopub.status.idle": "2021-01-17T00:31:51.169313Z",
     "shell.execute_reply": "2021-01-17T00:31:51.168329Z"
    },
    "papermill": {
     "duration": 26289.554167,
     "end_time": "2021-01-17T00:31:51.169421",
     "exception": false,
     "start_time": "2021-01-16T17:13:41.615254",
     "status": "completed"
    },
    "tags": []
   },
   "outputs": [
    {
     "name": "stdout",
     "output_type": "stream",
     "text": [
      "FOLD 0\n",
      "Train size: 17117, Valid size: 4280\n",
      "Train class: {0: 869, 1: 1751, 2: 1909, 3: 10527, 4: 2061}\n",
      "Valid class: {0: 218, 1: 438, 2: 477, 3: 2631, 4: 516}\n",
      "Epoch 1/7\n",
      "2139/2139 [==============================] - ETA: 0s - loss: 0.3394 - sparse_categorical_accuracy: 0.8858\n",
      "Epoch 00001: val_loss improved from inf to 0.37067, saving model to ./ModelB3v2_0.h5\n",
      "2139/2139 [==============================] - 807s 377ms/step - loss: 0.3394 - sparse_categorical_accuracy: 0.8858 - val_loss: 0.3707 - val_sparse_categorical_accuracy: 0.8762\n",
      "Epoch 2/7\n",
      "2139/2139 [==============================] - ETA: 0s - loss: 0.3194 - sparse_categorical_accuracy: 0.8906\n",
      "Epoch 00002: val_loss did not improve from 0.37067\n",
      "2139/2139 [==============================] - 741s 346ms/step - loss: 0.3194 - sparse_categorical_accuracy: 0.8906 - val_loss: 0.3729 - val_sparse_categorical_accuracy: 0.8745\n",
      "Epoch 3/7\n",
      "2139/2139 [==============================] - ETA: 0s - loss: 0.3081 - sparse_categorical_accuracy: 0.8938\n",
      "Epoch 00003: val_loss improved from 0.37067 to 0.36919, saving model to ./ModelB3v2_0.h5\n",
      "2139/2139 [==============================] - 744s 348ms/step - loss: 0.3081 - sparse_categorical_accuracy: 0.8938 - val_loss: 0.3692 - val_sparse_categorical_accuracy: 0.8736\n",
      "Epoch 4/7\n",
      "2139/2139 [==============================] - ETA: 0s - loss: 0.3054 - sparse_categorical_accuracy: 0.8946\n",
      "Epoch 00004: val_loss improved from 0.36919 to 0.36668, saving model to ./ModelB3v2_0.h5\n",
      "2139/2139 [==============================] - 743s 347ms/step - loss: 0.3054 - sparse_categorical_accuracy: 0.8946 - val_loss: 0.3667 - val_sparse_categorical_accuracy: 0.8752\n",
      "Epoch 5/7\n",
      "2139/2139 [==============================] - ETA: 0s - loss: 0.2915 - sparse_categorical_accuracy: 0.9000\n",
      "Epoch 00005: val_loss did not improve from 0.36668\n",
      "2139/2139 [==============================] - 743s 347ms/step - loss: 0.2915 - sparse_categorical_accuracy: 0.9000 - val_loss: 0.3763 - val_sparse_categorical_accuracy: 0.8757\n",
      "Epoch 6/7\n",
      "2139/2139 [==============================] - ETA: 0s - loss: 0.2845 - sparse_categorical_accuracy: 0.9019\n",
      "Epoch 00006: val_loss did not improve from 0.36668\n",
      "2139/2139 [==============================] - 742s 347ms/step - loss: 0.2845 - sparse_categorical_accuracy: 0.9019 - val_loss: 0.3779 - val_sparse_categorical_accuracy: 0.8748\n",
      "Epoch 7/7\n",
      "2139/2139 [==============================] - ETA: 0s - loss: 0.2804 - sparse_categorical_accuracy: 0.9048\n",
      "Epoch 00007: val_loss did not improve from 0.36668\n",
      "2139/2139 [==============================] - 740s 346ms/step - loss: 0.2804 - sparse_categorical_accuracy: 0.9048 - val_loss: 0.3782 - val_sparse_categorical_accuracy: 0.8741\n",
      "................................................................................\n",
      "Saving metrics...\n",
      "\n",
      "FOLD 1\n",
      "Train size: 17117, Valid size: 4280\n",
      "Train class: {0: 869, 1: 1751, 2: 1909, 3: 10527, 4: 2061}\n",
      "Valid class: {0: 218, 1: 438, 2: 477, 3: 2631, 4: 516}\n",
      "Epoch 1/7\n",
      "2139/2139 [==============================] - ETA: 0s - loss: 0.3238 - sparse_categorical_accuracy: 0.8896\n",
      "Epoch 00001: val_loss improved from inf to 0.30976, saving model to ./ModelB3v2_1.h5\n",
      "2139/2139 [==============================] - 746s 349ms/step - loss: 0.3238 - sparse_categorical_accuracy: 0.8896 - val_loss: 0.3098 - val_sparse_categorical_accuracy: 0.8909\n",
      "Epoch 2/7\n",
      "2139/2139 [==============================] - ETA: 0s - loss: 0.3030 - sparse_categorical_accuracy: 0.8968\n",
      "Epoch 00002: val_loss improved from 0.30976 to 0.29939, saving model to ./ModelB3v2_1.h5\n",
      "2139/2139 [==============================] - 745s 348ms/step - loss: 0.3030 - sparse_categorical_accuracy: 0.8968 - val_loss: 0.2994 - val_sparse_categorical_accuracy: 0.8944\n",
      "Epoch 3/7\n",
      "2139/2139 [==============================] - ETA: 0s - loss: 0.2998 - sparse_categorical_accuracy: 0.8959\n",
      "Epoch 00003: val_loss improved from 0.29939 to 0.29211, saving model to ./ModelB3v2_1.h5\n",
      "2139/2139 [==============================] - 745s 348ms/step - loss: 0.2998 - sparse_categorical_accuracy: 0.8959 - val_loss: 0.2921 - val_sparse_categorical_accuracy: 0.9005\n",
      "Epoch 4/7\n",
      "2139/2139 [==============================] - ETA: 0s - loss: 0.2919 - sparse_categorical_accuracy: 0.8980\n",
      "Epoch 00004: val_loss improved from 0.29211 to 0.28320, saving model to ./ModelB3v2_1.h5\n",
      "2139/2139 [==============================] - 744s 348ms/step - loss: 0.2919 - sparse_categorical_accuracy: 0.8980 - val_loss: 0.2832 - val_sparse_categorical_accuracy: 0.9035\n",
      "Epoch 5/7\n",
      "2139/2139 [==============================] - ETA: 0s - loss: 0.2801 - sparse_categorical_accuracy: 0.9019\n",
      "Epoch 00005: val_loss improved from 0.28320 to 0.27248, saving model to ./ModelB3v2_1.h5\n",
      "2139/2139 [==============================] - 747s 349ms/step - loss: 0.2801 - sparse_categorical_accuracy: 0.9019 - val_loss: 0.2725 - val_sparse_categorical_accuracy: 0.9070\n",
      "Epoch 6/7\n",
      "2139/2139 [==============================] - ETA: 0s - loss: 0.2794 - sparse_categorical_accuracy: 0.9027\n",
      "Epoch 00006: val_loss improved from 0.27248 to 0.26965, saving model to ./ModelB3v2_1.h5\n",
      "2139/2139 [==============================] - 746s 349ms/step - loss: 0.2794 - sparse_categorical_accuracy: 0.9027 - val_loss: 0.2697 - val_sparse_categorical_accuracy: 0.9070\n",
      "Epoch 7/7\n",
      "2139/2139 [==============================] - ETA: 0s - loss: 0.2723 - sparse_categorical_accuracy: 0.9056\n",
      "Epoch 00007: val_loss did not improve from 0.26965\n",
      "2139/2139 [==============================] - 745s 348ms/step - loss: 0.2723 - sparse_categorical_accuracy: 0.9056 - val_loss: 0.2790 - val_sparse_categorical_accuracy: 0.9016\n",
      "................................................................................\n",
      "Saving metrics...\n",
      "\n",
      "FOLD 2\n",
      "Train size: 17118, Valid size: 4279\n",
      "Train class: {0: 870, 1: 1751, 2: 1909, 3: 10526, 4: 2062}\n",
      "Valid class: {0: 217, 1: 438, 2: 477, 3: 2632, 4: 515}\n",
      "Epoch 1/7\n",
      "2139/2139 [==============================] - ETA: 0s - loss: 0.3562 - sparse_categorical_accuracy: 0.8790\n",
      "Epoch 00001: val_loss improved from inf to 0.31348, saving model to ./ModelB3v2_2.h5\n",
      "2139/2139 [==============================] - 743s 347ms/step - loss: 0.3562 - sparse_categorical_accuracy: 0.8790 - val_loss: 0.3135 - val_sparse_categorical_accuracy: 0.8916\n",
      "Epoch 2/7\n",
      "2139/2139 [==============================] - ETA: 0s - loss: 0.3361 - sparse_categorical_accuracy: 0.8863\n",
      "Epoch 00002: val_loss improved from 0.31348 to 0.30388, saving model to ./ModelB3v2_2.h5\n",
      "2139/2139 [==============================] - 742s 347ms/step - loss: 0.3361 - sparse_categorical_accuracy: 0.8863 - val_loss: 0.3039 - val_sparse_categorical_accuracy: 0.8909\n",
      "Epoch 3/7\n",
      "2139/2139 [==============================] - ETA: 0s - loss: 0.3211 - sparse_categorical_accuracy: 0.8902\n",
      "Epoch 00003: val_loss improved from 0.30388 to 0.30159, saving model to ./ModelB3v2_2.h5\n",
      "2139/2139 [==============================] - 744s 348ms/step - loss: 0.3211 - sparse_categorical_accuracy: 0.8902 - val_loss: 0.3016 - val_sparse_categorical_accuracy: 0.8916\n",
      "Epoch 4/7\n",
      "2139/2139 [==============================] - ETA: 0s - loss: 0.3115 - sparse_categorical_accuracy: 0.8929\n",
      "Epoch 00004: val_loss improved from 0.30159 to 0.29461, saving model to ./ModelB3v2_2.h5\n",
      "2139/2139 [==============================] - 745s 348ms/step - loss: 0.3115 - sparse_categorical_accuracy: 0.8929 - val_loss: 0.2946 - val_sparse_categorical_accuracy: 0.8956\n",
      "Epoch 5/7\n",
      "2139/2139 [==============================] - ETA: 0s - loss: 0.3002 - sparse_categorical_accuracy: 0.8986\n",
      "Epoch 00005: val_loss improved from 0.29461 to 0.29381, saving model to ./ModelB3v2_2.h5\n",
      "2139/2139 [==============================] - 746s 349ms/step - loss: 0.3002 - sparse_categorical_accuracy: 0.8986 - val_loss: 0.2938 - val_sparse_categorical_accuracy: 0.8947\n",
      "Epoch 6/7\n",
      "2139/2139 [==============================] - ETA: 0s - loss: 0.2935 - sparse_categorical_accuracy: 0.8978\n",
      "Epoch 00006: val_loss did not improve from 0.29381\n",
      "2139/2139 [==============================] - 746s 349ms/step - loss: 0.2935 - sparse_categorical_accuracy: 0.8978 - val_loss: 0.3013 - val_sparse_categorical_accuracy: 0.8923\n",
      "Epoch 7/7\n",
      "2139/2139 [==============================] - ETA: 0s - loss: 0.2851 - sparse_categorical_accuracy: 0.9021\n",
      "Epoch 00007: val_loss did not improve from 0.29381\n",
      "2139/2139 [==============================] - 747s 349ms/step - loss: 0.2851 - sparse_categorical_accuracy: 0.9021 - val_loss: 0.2958 - val_sparse_categorical_accuracy: 0.8947\n",
      "................................................................................\n",
      "Saving metrics...\n",
      "\n",
      "FOLD 3\n",
      "Train size: 17118, Valid size: 4279\n",
      "Train class: {0: 870, 1: 1751, 2: 1909, 3: 10526, 4: 2062}\n",
      "Valid class: {0: 217, 1: 438, 2: 477, 3: 2632, 4: 515}\n",
      "Epoch 1/7\n",
      "2139/2139 [==============================] - ETA: 0s - loss: 0.3357 - sparse_categorical_accuracy: 0.8869\n",
      "Epoch 00001: val_loss improved from inf to 0.30465, saving model to ./ModelB3v2_3.h5\n",
      "2139/2139 [==============================] - 750s 351ms/step - loss: 0.3357 - sparse_categorical_accuracy: 0.8869 - val_loss: 0.3047 - val_sparse_categorical_accuracy: 0.8947\n",
      "Epoch 2/7\n",
      "2139/2139 [==============================] - ETA: 0s - loss: 0.3222 - sparse_categorical_accuracy: 0.8917\n",
      "Epoch 00002: val_loss improved from 0.30465 to 0.29627, saving model to ./ModelB3v2_3.h5\n",
      "2139/2139 [==============================] - 744s 348ms/step - loss: 0.3222 - sparse_categorical_accuracy: 0.8917 - val_loss: 0.2963 - val_sparse_categorical_accuracy: 0.8961\n",
      "Epoch 3/7\n",
      "2139/2139 [==============================] - ETA: 0s - loss: 0.3125 - sparse_categorical_accuracy: 0.8910\n",
      "Epoch 00003: val_loss improved from 0.29627 to 0.28868, saving model to ./ModelB3v2_3.h5\n",
      "2139/2139 [==============================] - 747s 349ms/step - loss: 0.3125 - sparse_categorical_accuracy: 0.8910 - val_loss: 0.2887 - val_sparse_categorical_accuracy: 0.9019\n",
      "Epoch 4/7\n",
      "2139/2139 [==============================] - ETA: 0s - loss: 0.2987 - sparse_categorical_accuracy: 0.8984\n",
      "Epoch 00004: val_loss improved from 0.28868 to 0.28579, saving model to ./ModelB3v2_3.h5\n",
      "2139/2139 [==============================] - 745s 348ms/step - loss: 0.2987 - sparse_categorical_accuracy: 0.8984 - val_loss: 0.2858 - val_sparse_categorical_accuracy: 0.9003\n",
      "Epoch 5/7\n",
      "2139/2139 [==============================] - ETA: 0s - loss: 0.2904 - sparse_categorical_accuracy: 0.9009\n",
      "Epoch 00005: val_loss improved from 0.28579 to 0.28091, saving model to ./ModelB3v2_3.h5\n",
      "2139/2139 [==============================] - 746s 349ms/step - loss: 0.2904 - sparse_categorical_accuracy: 0.9009 - val_loss: 0.2809 - val_sparse_categorical_accuracy: 0.9022\n",
      "Epoch 6/7\n",
      "2139/2139 [==============================] - ETA: 0s - loss: 0.2880 - sparse_categorical_accuracy: 0.9013\n",
      "Epoch 00006: val_loss improved from 0.28091 to 0.27629, saving model to ./ModelB3v2_3.h5\n",
      "2139/2139 [==============================] - 747s 349ms/step - loss: 0.2880 - sparse_categorical_accuracy: 0.9013 - val_loss: 0.2763 - val_sparse_categorical_accuracy: 0.9047\n",
      "Epoch 7/7\n",
      "2139/2139 [==============================] - ETA: 0s - loss: 0.2801 - sparse_categorical_accuracy: 0.9021\n",
      "Epoch 00007: val_loss did not improve from 0.27629\n",
      "2139/2139 [==============================] - 742s 347ms/step - loss: 0.2801 - sparse_categorical_accuracy: 0.9021 - val_loss: 0.2772 - val_sparse_categorical_accuracy: 0.9047\n",
      "................................................................................\n",
      "Saving metrics...\n",
      "\n",
      "FOLD 4\n",
      "Train size: 17118, Valid size: 4279\n",
      "Train class: {0: 870, 1: 1752, 2: 1908, 3: 10526, 4: 2062}\n",
      "Valid class: {0: 217, 1: 437, 2: 478, 3: 2632, 4: 515}\n",
      "Epoch 1/7\n",
      "2139/2139 [==============================] - ETA: 0s - loss: 0.3225 - sparse_categorical_accuracy: 0.8890\n",
      "Epoch 00001: val_loss improved from inf to 0.28274, saving model to ./ModelB3v2_4.h5\n",
      "2139/2139 [==============================] - 745s 348ms/step - loss: 0.3225 - sparse_categorical_accuracy: 0.8890 - val_loss: 0.2827 - val_sparse_categorical_accuracy: 0.8996\n",
      "Epoch 2/7\n",
      "2139/2139 [==============================] - ETA: 0s - loss: 0.3087 - sparse_categorical_accuracy: 0.8931\n",
      "Epoch 00002: val_loss did not improve from 0.28274\n",
      "2139/2139 [==============================] - 742s 347ms/step - loss: 0.3087 - sparse_categorical_accuracy: 0.8931 - val_loss: 0.2833 - val_sparse_categorical_accuracy: 0.8961\n",
      "Epoch 3/7\n",
      "2139/2139 [==============================] - ETA: 0s - loss: 0.2959 - sparse_categorical_accuracy: 0.8986\n",
      "Epoch 00003: val_loss improved from 0.28274 to 0.27253, saving model to ./ModelB3v2_4.h5\n",
      "2139/2139 [==============================] - 742s 347ms/step - loss: 0.2959 - sparse_categorical_accuracy: 0.8986 - val_loss: 0.2725 - val_sparse_categorical_accuracy: 0.8998\n",
      "Epoch 4/7\n",
      "2139/2139 [==============================] - ETA: 0s - loss: 0.2881 - sparse_categorical_accuracy: 0.9007\n",
      "Epoch 00004: val_loss improved from 0.27253 to 0.25775, saving model to ./ModelB3v2_4.h5\n",
      "2139/2139 [==============================] - 743s 347ms/step - loss: 0.2881 - sparse_categorical_accuracy: 0.9007 - val_loss: 0.2577 - val_sparse_categorical_accuracy: 0.9066\n",
      "Epoch 5/7\n",
      "2139/2139 [==============================] - ETA: 0s - loss: 0.2843 - sparse_categorical_accuracy: 0.9023\n",
      "Epoch 00005: val_loss did not improve from 0.25775\n",
      "2139/2139 [==============================] - 741s 346ms/step - loss: 0.2843 - sparse_categorical_accuracy: 0.9023 - val_loss: 0.2594 - val_sparse_categorical_accuracy: 0.9066\n",
      "Epoch 6/7\n",
      "2139/2139 [==============================] - ETA: 0s - loss: 0.2781 - sparse_categorical_accuracy: 0.9023\n",
      "Epoch 00006: val_loss improved from 0.25775 to 0.25321, saving model to ./ModelB3v2_4.h5\n",
      "2139/2139 [==============================] - 742s 347ms/step - loss: 0.2781 - sparse_categorical_accuracy: 0.9023 - val_loss: 0.2532 - val_sparse_categorical_accuracy: 0.9075\n",
      "Epoch 7/7\n",
      "2139/2139 [==============================] - ETA: 0s - loss: 0.2720 - sparse_categorical_accuracy: 0.9065\n",
      "Epoch 00007: val_loss did not improve from 0.25321\n",
      "2139/2139 [==============================] - 743s 348ms/step - loss: 0.2720 - sparse_categorical_accuracy: 0.9065 - val_loss: 0.2569 - val_sparse_categorical_accuracy: 0.9057\n",
      "................................................................................\n",
      "Saving metrics...\n",
      "\n"
     ]
    }
   ],
   "source": [
    "tf.keras.backend.clear_session()\n",
    "N_SPLITS = 5\n",
    "oof = {}\n",
    "loss = {}\n",
    "val_loss = {}\n",
    "accuracy = {}\n",
    "val_accuracy = {}\n",
    "MODEL_NAME = 'ModelB3v2_'\n",
    "\n",
    "fold = StratifiedKFold(n_splits=N_SPLITS, shuffle=True, random_state=SEED)\n",
    "for _fold, (train_idx, valid_idx) in enumerate(fold.split(df['path'], df['label'])):\n",
    "    train_set = df.iloc[train_idx]\n",
    "    valid_set = df.iloc[valid_idx]\n",
    "    steps_per_epoch = len(train_set)//BATCH_SIZE\n",
    "    validation_steps = len(valid_set)//BATCH_SIZE\n",
    "    \n",
    "    \n",
    "    print('FOLD {}'.format(_fold))\n",
    "    print('Train size: {0}, Valid size: {1}'.format(len(train_set), len(valid_set)))\n",
    "    print('Train class: {}'.format(train_set.groupby('label')['image_id'].count().to_dict()))\n",
    "    print('Valid class: {}'.format(valid_set.groupby('label')['image_id'].count().to_dict()))\n",
    "    \n",
    "    train_ds_batch, valid_ds_batch = create_dataset_batch(train_set, valid_set)\n",
    "    model = create_model()\n",
    "    if RETRAIN:\n",
    "        model.load_weights(WEIGHT_DIR+str(_fold)+'.h5')\n",
    "    \n",
    "    checkpoint = callbacks.ModelCheckpoint(SAVE_DIR+MODEL_NAME+str(_fold)+'.h5',\n",
    "                                           monitor='val_loss',\n",
    "                                           verbose=1,\n",
    "                                           save_best_only=True,\n",
    "                                           save_weights_only=False)\n",
    "    \n",
    "    history_fold = model.fit(train_ds_batch,\n",
    "                             epochs=EPOCHS,\n",
    "                             steps_per_epoch=steps_per_epoch,\n",
    "                             validation_data=valid_ds_batch,\n",
    "                             validation_steps=validation_steps,\n",
    "                             callbacks=[checkpoint])\n",
    "    print('.'*80)\n",
    "    # Save useful metrics and valid_idx per fold\n",
    "    loss[_fold] = history_fold.history['loss']\n",
    "    val_loss[_fold] = history_fold.history['val_loss']\n",
    "    accuracy[_fold] = history_fold.history['sparse_categorical_accuracy']\n",
    "    val_accuracy[_fold] = history_fold.history['val_sparse_categorical_accuracy']\n",
    "    oof[_fold] = valid_idx\n",
    "    # Save metrics for futher analysis\n",
    "    print('Saving metrics...')\n",
    "    metrics = (loss, val_loss, accuracy, val_accuracy, oof)\n",
    "    joblib.dump(metrics, open(SAVE_DIR+'metrics.pkl', 'wb'))\n",
    "    print()"
   ]
  },
  {
   "cell_type": "code",
   "execution_count": 11,
   "metadata": {
    "execution": {
     "iopub.execute_input": "2021-01-17T00:32:34.918316Z",
     "iopub.status.busy": "2021-01-17T00:32:34.916451Z",
     "iopub.status.idle": "2021-01-17T00:32:34.918901Z",
     "shell.execute_reply": "2021-01-17T00:32:34.919321Z"
    },
    "papermill": {
     "duration": 21.566424,
     "end_time": "2021-01-17T00:32:34.919435",
     "exception": false,
     "start_time": "2021-01-17T00:32:13.353011",
     "status": "completed"
    },
    "tags": []
   },
   "outputs": [],
   "source": [
    "# # Save metrics for futher analysis\n",
    "# metrics = (loss, val_loss, accuracy, val_accuracy, oof)\n",
    "# joblib.dump(metrics, open(SAVE_DIR+'metrics2.pkl', 'wb'))"
   ]
  },
  {
   "cell_type": "code",
   "execution_count": null,
   "metadata": {
    "papermill": {
     "duration": 22.731587,
     "end_time": "2021-01-17T00:33:20.743195",
     "exception": false,
     "start_time": "2021-01-17T00:32:58.011608",
     "status": "completed"
    },
    "tags": []
   },
   "outputs": [],
   "source": []
  }
 ],
 "metadata": {
  "kernelspec": {
   "display_name": "Python 3",
   "language": "python",
   "name": "python3"
  },
  "language_info": {
   "codemirror_mode": {
    "name": "ipython",
    "version": 3
   },
   "file_extension": ".py",
   "mimetype": "text/x-python",
   "name": "python",
   "nbconvert_exporter": "python",
   "pygments_lexer": "ipython3",
   "version": "3.7.6"
  },
  "papermill": {
   "duration": 26424.081423,
   "end_time": "2021-01-17T00:33:45.186972",
   "environment_variables": {},
   "exception": null,
   "input_path": "__notebook__.ipynb",
   "output_path": "__notebook__.ipynb",
   "parameters": {},
   "start_time": "2021-01-16T17:13:21.105549",
   "version": "2.1.0"
  }
 },
 "nbformat": 4,
 "nbformat_minor": 4
}
